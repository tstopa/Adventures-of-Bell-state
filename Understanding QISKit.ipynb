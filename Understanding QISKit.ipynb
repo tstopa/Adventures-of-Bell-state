{
 "cells": [
  {
   "cell_type": "code",
   "execution_count": 1,
   "metadata": {},
   "outputs": [],
   "source": [
    "from qiskit import IBMQ\n",
    "from qiskit import QuantumCircuit, ClassicalRegister, QuantumRegister\n",
    "from qiskit import execute\n",
    "\n",
    "#Earlier IBMQ.save_account('TOKEN') needs to be run\n",
    "IBMQ.load_accounts()"
   ]
  },
  {
   "cell_type": "code",
   "execution_count": 41,
   "metadata": {
    "scrolled": true
   },
   "outputs": [
    {
     "data": {
      "text/plain": [
       "[<IBMQBackend('ibmqx4') from IBMQ()>,\n",
       " <IBMQBackend('ibmqx2') from IBMQ()>,\n",
       " <IBMQBackend('ibmq_16_melbourne') from IBMQ()>]"
      ]
     },
     "execution_count": 41,
     "metadata": {},
     "output_type": "execute_result"
    }
   ],
   "source": [
    "IBMQ.backends(operational=True, simulator=False)"
   ]
  },
  {
   "cell_type": "code",
   "execution_count": 13,
   "metadata": {},
   "outputs": [
    {
     "data": {
      "text/plain": [
       "BackendStatus(backend_name='ibmqx4', backend_version='1.0.0', operational=True, pending_jobs=1, status_msg='active')"
      ]
     },
     "execution_count": 13,
     "metadata": {},
     "output_type": "execute_result"
    }
   ],
   "source": [
    "IBMQ.get_backend('ibmqx4').status()"
   ]
  },
  {
   "cell_type": "code",
   "execution_count": 2,
   "metadata": {},
   "outputs": [],
   "source": [
    "qr = QuantumRegister(2)\n",
    "cr = ClassicalRegister(2)\n",
    "circuit = QuantumCircuit(qr, cr)"
   ]
  },
  {
   "cell_type": "code",
   "execution_count": 3,
   "metadata": {},
   "outputs": [
    {
     "data": {
      "text/plain": [
       "<qiskit.circuit.instructionset.InstructionSet at 0x178589fd908>"
      ]
     },
     "execution_count": 3,
     "metadata": {},
     "output_type": "execute_result"
    }
   ],
   "source": [
    "circuit.h(qr[0])\n",
    "circuit.cx(qr[0], qr[1])\n",
    "circuit.measure(qr, cr)"
   ]
  },
  {
   "cell_type": "code",
   "execution_count": 33,
   "metadata": {},
   "outputs": [
    {
     "data": {
      "image/png": "[encoded data removed]",
      "text/plain": [
       "<Figure size 421.4x258.86 with 1 Axes>"
      ]
     },
     "execution_count": 33,
     "metadata": {},
     "output_type": "execute_result"
    }
   ],
   "source": [
    "%matplotlib inline\n",
    "circuit.draw(output='mpl')"
   ]
  },
  {
   "cell_type": "code",
   "execution_count": 34,
   "metadata": {},
   "outputs": [
    {
     "name": "stdout",
     "output_type": "stream",
     "text": [
      "OPENQASM 2.0;\n",
      "include \"qelib1.inc\";\n",
      "qreg q0[2];\n",
      "creg c0[2];\n",
      "h q0[0];\n",
      "cx q0[0],q0[1];\n",
      "measure q0[0] -> c0[0];\n",
      "measure q0[1] -> c0[1];\n",
      "\n"
     ]
    }
   ],
   "source": [
    "print(circuit.qasm())"
   ]
  },
  {
   "cell_type": "code",
   "execution_count": 4,
   "metadata": {},
   "outputs": [],
   "source": [
    "backend=IBMQ.get_backend('ibmqx4')"
   ]
  },
  {
   "cell_type": "code",
   "execution_count": 19,
   "metadata": {},
   "outputs": [],
   "source": [
    "job = execute(circuit, backend=backend, shots=1024, max_credits=3)"
   ]
  },
  {
   "cell_type": "code",
   "execution_count": null,
   "metadata": {},
   "outputs": [],
   "source": [
    "job_monitor(job, interval=5)"
   ]
  },
  {
   "cell_type": "code",
   "execution_count": 37,
   "metadata": {},
   "outputs": [
    {
     "data": {
      "text/plain": [
       "<JobStatus.DONE: 'job has successfully run'>"
      ]
     },
     "execution_count": 37,
     "metadata": {},
     "output_type": "execute_result"
    }
   ],
   "source": [
    "job.status()"
   ]
  },
  {
   "cell_type": "code",
   "execution_count": 39,
   "metadata": {},
   "outputs": [
    {
     "name": "stdout",
     "output_type": "stream",
     "text": [
      "{'01': 192, '00': 506, '11': 279, '10': 47}\n"
     ]
    }
   ],
   "source": [
    "result = job.result()\n",
    "counts=result.get_counts(circuit)\n",
    "print(counts)"
   ]
  },
  {
   "cell_type": "code",
   "execution_count": 40,
   "metadata": {},
   "outputs": [
    {
     "data": {
      "image/png": "[encoded data removed]",
      "text/plain": [
       "<Figure size 504x360 with 1 Axes>"
      ]
     },
     "execution_count": 40,
     "metadata": {},
     "output_type": "execute_result"
    }
   ],
   "source": [
    "from qiskit.tools.visualization import plot_histogram\n",
    "%matplotlib inline\n",
    "plot_histogram(counts)"
   ]
  },
  {
   "cell_type": "code",
   "execution_count": 84,
   "metadata": {},
   "outputs": [
    {
     "data": {
      "text/plain": [
       "3"
      ]
     },
     "execution_count": 84,
     "metadata": {},
     "output_type": "execute_result"
    }
   ],
   "source": [
    "# depth of circuit (number of ops on the critical path)\n",
    "circuit.depth()"
   ]
  },
  {
   "cell_type": "code",
   "execution_count": 27,
   "metadata": {},
   "outputs": [
    {
     "name": "stdout",
     "output_type": "stream",
     "text": [
      "[[1, 0], [2, 0], [2, 1], [3, 2], [3, 4], [4, 2]]\n"
     ]
    }
   ],
   "source": [
    "import pprint\n",
    "pprint.pprint(backend.configuration().coupling_map)"
   ]
  },
  {
   "cell_type": "code",
   "execution_count": 37,
   "metadata": {},
   "outputs": [
    {
     "name": "stdout",
     "output_type": "stream",
     "text": [
      "['u1', 'u2', 'u3', 'cx', 'id']\n"
     ]
    }
   ],
   "source": [
    "pprint.pprint(backend.configuration().basis_gates)"
   ]
  },
  {
   "cell_type": "code",
   "execution_count": 30,
   "metadata": {},
   "outputs": [
    {
     "name": "stdout",
     "output_type": "stream",
     "text": [
      "[GateConfig(coupling_map=[[0], [1], [2], [3], [4]], name='id', parameters=[], qasm_def='gate id q { U(0,0,0) q; }'),\n",
      " GateConfig(coupling_map=[[0], [1], [2], [3], [4]], name='u1', parameters=['lambda'], qasm_def='gate u1(lambda) q { U(0,0,lambda) q; }'),\n",
      " GateConfig(coupling_map=[[0], [1], [2], [3], [4]], name='u2', parameters=['phi', 'lambda'], qasm_def='gate u2(phi,lambda) q { U(pi/2,phi,lambda) q; }'),\n",
      " GateConfig(coupling_map=[[0], [1], [2], [3], [4]], name='u3', parameters=['theta', 'phi', 'lambda'], qasm_def='u3(theta,phi,lambda) q { U(theta,phi,lambda) q; }'),\n",
      " GateConfig(coupling_map=[[1, 0], [2, 0], [2, 1], [3, 2], [3, 4], [4, 2]], name='cx', parameters=[], qasm_def='gate cx q1,q2 { CX q1,q2; }')]\n"
     ]
    }
   ],
   "source": [
    "pprint.pprint(dictionary.gates)"
   ]
  },
  {
   "cell_type": "code",
   "execution_count": 26,
   "metadata": {
    "scrolled": true
   },
   "outputs": [
    {
     "name": "stdout",
     "output_type": "stream",
     "text": [
      "[[1, 0], [2, 0], [2, 1], [3, 2], [3, 4], [4, 2]]\n"
     ]
    }
   ],
   "source": [
    "import pprint\n",
    "pprint.pprint(dictionary.coupling_map)"
   ]
  },
  {
   "cell_type": "code",
   "execution_count": 35,
   "metadata": {},
   "outputs": [
    {
     "name": "stdout",
     "output_type": "stream",
     "text": [
      "Qobj(config=QobjConfig(max_credits=10, memory=False, memory_slots=2, n_qubits=5, shots=1024), experiments=[QobjExperiment(config=QobjItem(memory_slots=2, n_qubits=5), header=QobjItem(clbit_labels=[['c0', 0], ['c0', 1]], compiled_circuit_qasm='OPENQASM 2.0;\\ninclude \"qelib1.inc\";\\nqreg q[5];\\ncreg c0[2];\\nu2(0,pi) q[1];\\ncx q[1],q[0];\\nu2(0,pi) q[1];\\nu2(0,pi) q[0];\\nbarrier q[0],q[1];\\nmeasure q[1] -> c0[1];\\nmeasure q[0] -> c0[0];\\n', creg_sizes=[['c0', 2]], memory_slots=2, n_qubits=5, name='circuit0', qreg_sizes=[['q', 5]], qubit_labels=[['q', 0], ['q', 1], ['q', 2], ['q', 3], ['q', 4]]), instructions=[QobjItem(memory=[], name='u2', params=[0, 3.14159265358979], qubits=[1], texparams=['0', '\\\\pi']), QobjItem(memory=[], name='cx', params=[], qubits=[1, 0], texparams=[]), QobjItem(memory=[], name='u2', params=[0, 3.14159265358979], qubits=[0], texparams=['0', '\\\\pi']), QobjItem(memory=[], name='u2', params=[0, 3.14159265358979], qubits=[1], texparams=['0', '\\\\pi']), QobjItem(memory=[], name='barrier', params=[], qubits=[0, 1], texparams=[]), QobjItem(memory=[0], name='measure', params=[], qubits=[0], texparams=[]), QobjItem(memory=[1], name='measure', params=[], qubits=[1], texparams=[])])], header=QobjHeader(backend_name='ibmqx4'), qobj_id='86d7e7fc-2fd1-4e5f-bcae-aff803f170fe', schema_version='1.0.0', type='QASM')\n"
     ]
    }
   ],
   "source": [
    "from qiskit import compile\n",
    "qobj = compile(circuit, backend)\n",
    "\n",
    "print(qobj)"
   ]
  },
  {
   "cell_type": "code",
   "execution_count": 53,
   "metadata": {},
   "outputs": [
    {
     "name": "stdout",
     "output_type": "stream",
     "text": [
      "('OPENQASM 2.0;\\n'\n",
      " 'include \"qelib1.inc\";\\n'\n",
      " 'qreg q[5];\\n'\n",
      " 'creg c0[2];\\n'\n",
      " 'u2(0,pi) q[1];\\n'\n",
      " 'cx q[1],q[0];\\n'\n",
      " 'u2(0,pi) q[1];\\n'\n",
      " 'u2(0,pi) q[0];\\n'\n",
      " 'barrier q[0],q[1];\\n'\n",
      " 'measure q[1] -> c0[1];\\n'\n",
      " 'measure q[0] -> c0[0];\\n')\n"
     ]
    }
   ],
   "source": [
    "pprint.pprint(qobj.experiments[0].header.compiled_circuit_qasm)"
   ]
  },
  {
   "cell_type": "code",
   "execution_count": 73,
   "metadata": {},
   "outputs": [
    {
     "data": {
      "text/plain": [
       "{'u2': 3, 'cx': 1, 'barrier': 1, 'measure': 2}"
      ]
     },
     "execution_count": 73,
     "metadata": {},
     "output_type": "execute_result"
    }
   ],
   "source": [
    "circuit2=QuantumCircuit.\n",
    "    from_qasm_str(qobj.experiments[0].header.compiled_circuit_qasm)\n",
    "circuit2.draw()"
   ]
  },
  {
   "cell_type": "code",
   "execution_count": 81,
   "metadata": {},
   "outputs": [
    {
     "data": {
      "text/html": [
       "<pre style=\"word-wrap: normal;white-space: pre;line-height: 15px;\">                        ┌───┐                ┌──────────────┐ ░    ┌─┐\n",
       "q_0: |0>────────────────┤ X ├────────────────┤ U2(0,3.1416) ├─░────┤M├\n",
       "        ┌──────────────┐└─┬─┘┌──────────────┐└──────────────┘ ░ ┌─┐└╥┘\n",
       "q_1: |0>┤ U2(0,3.1416) ├──■──┤ U2(0,3.1416) ├─────────────────░─┤M├─╫─\n",
       "        └──────────────┘     └──────────────┘                 ░ └╥┘ ║ \n",
       "q_2: |0>─────────────────────────────────────────────────────────╫──╫─\n",
       "                                                                 ║  ║ \n",
       "q_3: |0>─────────────────────────────────────────────────────────╫──╫─\n",
       "                                                                 ║  ║ \n",
       "q_4: |0>─────────────────────────────────────────────────────────╫──╫─\n",
       "                                                                 ║  ║ \n",
       "c0_0: 0 ═════════════════════════════════════════════════════════╬══╩═\n",
       "                                                                 ║    \n",
       "c0_1: 0 ═════════════════════════════════════════════════════════╩════\n",
       "                                                                      </pre>"
      ],
      "text/plain": [
       "<qiskit.tools.visualization._text.TextDrawing at 0x1d0aa83de10>"
      ]
     },
     "execution_count": 81,
     "metadata": {},
     "output_type": "execute_result"
    }
   ],
   "source": [
    "circuit2.draw()"
   ]
  },
  {
   "cell_type": "code",
   "execution_count": 82,
   "metadata": {},
   "outputs": [
    {
     "data": {
      "text/plain": [
       "5"
      ]
     },
     "execution_count": 82,
     "metadata": {},
     "output_type": "execute_result"
    }
   ],
   "source": [
    "circuit2.depth()"
   ]
  },
  {
   "cell_type": "code",
   "execution_count": 22,
   "metadata": {},
   "outputs": [
    {
     "data": {
      "image/png": "[encoded data removed]",
      "text/plain": [
       "<Figure size 421.4x258.86 with 1 Axes>"
      ]
     },
     "execution_count": 22,
     "metadata": {},
     "output_type": "execute_result"
    }
   ],
   "source": [
    "qr3 = QuantumRegister(2)\n",
    "cr3 = ClassicalRegister(2)\n",
    "\n",
    "circuit3 = QuantumCircuit(qr3, cr3)\n",
    "\n",
    "circuit3.h(qr3[1])\n",
    "circuit3.cx(qr3[1], qr3[0])\n",
    "circuit3.measure(qr3, cr3)\n",
    "\n",
    "%matplotlib inline\n",
    "circuit3.draw(output='mpl')"
   ]
  },
  {
   "cell_type": "code",
   "execution_count": 23,
   "metadata": {},
   "outputs": [],
   "source": [
    "job3 = execute(circuit3, backend=backend, shots=1024, max_credits=3)"
   ]
  },
  {
   "cell_type": "code",
   "execution_count": 26,
   "metadata": {},
   "outputs": [
    {
     "data": {
      "text/plain": [
       "<JobStatus.DONE: 'job has successfully run'>"
      ]
     },
     "execution_count": 26,
     "metadata": {},
     "output_type": "execute_result"
    }
   ],
   "source": [
    "job3.status()"
   ]
  },
  {
   "cell_type": "code",
   "execution_count": 27,
   "metadata": {
    "scrolled": true
   },
   "outputs": [
    {
     "data": {
      "image/png": "[encoded data removed]",
      "text/plain": [
       "<Figure size 504x360 with 1 Axes>"
      ]
     },
     "execution_count": 27,
     "metadata": {},
     "output_type": "execute_result"
    }
   ],
   "source": [
    "result3 = job3.result()\n",
    "counts3=result3.get_counts(circuit3)\n",
    "\n",
    "%matplotlib inline\n",
    "plot_histogram(counts3)"
   ]
  },
  {
   "cell_type": "code",
   "execution_count": 15,
   "metadata": {},
   "outputs": [
    {
     "name": "stdout",
     "output_type": "stream",
     "text": [
      "('OPENQASM 2.0;\\n'\n",
      " 'include \"qelib1.inc\";\\n'\n",
      " 'qreg q[5];\\n'\n",
      " 'creg c0[2];\\n'\n",
      " 'u2(0,pi) q[1];\\n'\n",
      " 'cx q[1],q[0];\\n'\n",
      " 'barrier q[0],q[1];\\n'\n",
      " 'measure q[1] -> c0[1];\\n'\n",
      " 'measure q[0] -> c0[0];\\n')\n"
     ]
    }
   ],
   "source": [
    "qobj3 = compile(circuit3, backend)\n",
    "pprint.pprint(qobj3.experiments[0].header.compiled_circuit_qasm)"
   ]
  },
  {
   "cell_type": "code",
   "execution_count": 19,
   "metadata": {},
   "outputs": [
    {
     "data": {
      "text/plain": [
       "3"
      ]
     },
     "execution_count": 19,
     "metadata": {},
     "output_type": "execute_result"
    }
   ],
   "source": [
    "circuit3.depth()"
   ]
  },
  {
   "cell_type": "code",
   "execution_count": 20,
   "metadata": {},
   "outputs": [
    {
     "data": {
      "text/html": [
       "<pre style=\"word-wrap: normal;white-space: pre;line-height: 15px;\">                        ┌───┐ ░    ┌─┐\n",
       "q_0: |0>────────────────┤ X ├─░────┤M├\n",
       "        ┌──────────────┐└─┬─┘ ░ ┌─┐└╥┘\n",
       "q_1: |0>┤ U2(0,3.1416) ├──■───░─┤M├─╫─\n",
       "        └──────────────┘      ░ └╥┘ ║ \n",
       "q_2: |0>─────────────────────────╫──╫─\n",
       "                                 ║  ║ \n",
       "q_3: |0>─────────────────────────╫──╫─\n",
       "                                 ║  ║ \n",
       "q_4: |0>─────────────────────────╫──╫─\n",
       "                                 ║  ║ \n",
       "c0_0: 0 ═════════════════════════╬══╩═\n",
       "                                 ║    \n",
       "c0_1: 0 ═════════════════════════╩════\n",
       "                                      </pre>"
      ],
      "text/plain": [
       "<qiskit.tools.visualization._text.TextDrawing at 0x19c16d4e668>"
      ]
     },
     "execution_count": 20,
     "metadata": {},
     "output_type": "execute_result"
    }
   ],
   "source": [
    "circuit4=QuantumCircuit.from_qasm_str(qobj3.experiments[0].header.compiled_circuit_qasm)\n",
    "circuit4.draw()"
   ]
  },
  {
   "cell_type": "code",
   "execution_count": 17,
   "metadata": {},
   "outputs": [
    {
     "name": "stdout",
     "output_type": "stream",
     "text": [
      "ibmqx4\n",
      "======\n",
      "Configuration\n",
      "-------------\n",
      "    n_qubits: 5\n",
      "    operational: True\n",
      "    status_msg: active\n",
      "    pending_jobs: 0\n",
      "    basis_gates: ['u1', 'u2', 'u3', 'cx', 'id']\n",
      "    local: False\n",
      "    simulator: False\n",
      "    memory: True\n",
      "    description: 5 qubit device\n",
      "    online_date: 2018-11-06T05:00:00+00:00\n",
      "    max_shots: 8192\n",
      "    credits_required: True\n",
      "    backend_name: ibmqx4\n",
      "    allow_q_object: True\n",
      "    url: None\n",
      "    max_experiments: 75\n",
      "    coupling_map: [[1, 0], [2, 0], [2, 1], [3, 2], [3, 4], [4, 2]]\n",
      "    conditional: False\n",
      "    open_pulse: False\n",
      "    n_registers: 1\n",
      "    backend_version: 1.0.0\n",
      "    sample_name: raven\n",
      "\n",
      "Qubits [Name / Freq / T1 / T2 / U1 err / U2 err / U3 err / Readout err]\n",
      "-----------------------------------------------------------------------\n",
      "    Q0 / 5.2465 GHz / 38.67278 µs / 12.88365 µs / 0.0 / 0.00129 / 0.00258 / 0.08975\n",
      "    Q1 / 5.2983 GHz / 40.93179 µs / 11.41149 µs / 0.0 / 0.00163 / 0.00326 / 0.069\n",
      "    Q2 / 5.33833 GHz / 57.53154 µs / 47.80225 µs / 0.0 / 0.00112 / 0.00223 / 0.01975\n",
      "    Q3 / 5.42613 GHz / 63.99901 µs / 29.47043 µs / 0.0 / 0.0018 / 0.00361 / 0.07425\n",
      "    Q4 / 5.17451 GHz / 42.83148 µs / 5.97167 µs / 0.0 / 0.00172 / 0.00343 / 0.07625\n",
      "\n",
      "Multi-Qubit Gates [Name / Type / Gate Error]\n",
      "--------------------------------------------\n",
      "    CX1_0 / cx / 0.02914\n",
      "    CX2_0 / cx / 0.02559\n",
      "    CX2_1 / cx / 0.04564\n",
      "    CX3_2 / cx / 0.05188\n",
      "    CX3_4 / cx / 0.05422\n",
      "    CX4_2 / cx / 0.05812\n"
     ]
    }
   ],
   "source": [
    "backend_monitor(backend)"
   ]
  },
  {
   "cell_type": "code",
   "execution_count": 31,
   "metadata": {},
   "outputs": [
    {
     "data": {
      "image/png": "[encoded data removed]",
      "text/plain": [
       "<Figure size 481.6x379.26 with 1 Axes>"
      ]
     },
     "execution_count": 31,
     "metadata": {},
     "output_type": "execute_result"
    }
   ],
   "source": [
    "qr5 = QuantumRegister(3)\n",
    "cr5 = ClassicalRegister(3)\n",
    "\n",
    "circuit5 = QuantumCircuit(qr5, cr5)\n",
    "\n",
    "circuit5.h(qr5[2])\n",
    "circuit5.cx(qr5[2], qr5[0])\n",
    "circuit5.measure(qr5, cr5)\n",
    "\n",
    "%matplotlib inline\n",
    "circuit5.draw(output='mpl')"
   ]
  },
  {
   "cell_type": "code",
   "execution_count": 32,
   "metadata": {},
   "outputs": [],
   "source": [
    "job5 = execute(circuit5, backend=backend, shots=1024, max_credits=3)"
   ]
  },
  {
   "cell_type": "code",
   "execution_count": 34,
   "metadata": {},
   "outputs": [
    {
     "data": {
      "text/plain": [
       "<JobStatus.DONE: 'job has successfully run'>"
      ]
     },
     "execution_count": 34,
     "metadata": {},
     "output_type": "execute_result"
    }
   ],
   "source": [
    "job5.status()"
   ]
  },
  {
   "cell_type": "code",
   "execution_count": 35,
   "metadata": {},
   "outputs": [
    {
     "data": {
      "image/png": "[encoded data removed]",
      "text/plain": [
       "<Figure size 504x360 with 1 Axes>"
      ]
     },
     "execution_count": 35,
     "metadata": {},
     "output_type": "execute_result"
    }
   ],
   "source": [
    "result5 = job5.result()\n",
    "counts5=result5.get_counts(circuit5)\n",
    "\n",
    "plot_histogram(counts5)"
   ]
  },
  {
   "cell_type": "code",
   "execution_count": 38,
   "metadata": {},
   "outputs": [
    {
     "name": "stdout",
     "output_type": "stream",
     "text": [
      "ibmq_16_melbourne           ibmqx2                       ibmqx4\n",
      "-----------------           ------                       ------\n",
      "Num. Qubits:  14            Num. Qubits:  5              Num. Qubits:  5\n",
      "Pending Jobs: 0             Pending Jobs: 8              Pending Jobs: 62\n",
      "Least busy:   True          Least busy:   False          Least busy:   False\n",
      "Operational:  True          Operational:  True           Operational:  True\n",
      "Avg. T1:      59.3          Avg. T1:      51.8           Avg. T1:      42.4\n",
      "Avg. T2:      80.6          Avg. T2:      45.4           Avg. T2:      24.5\n",
      "\n",
      "\n",
      "\n"
     ]
    }
   ],
   "source": [
    "from qiskit.tools.monitor import backend_overview\n",
    "backend_overview()"
   ]
  },
  {
   "cell_type": "markdown",
   "metadata": {},
   "source": [
    "#### Hmmm, it seems nobody is using the ibmqx4...indeed the T1 and T2 times are worse than for ibmqx2 amd melbourne..."
   ]
  },
  {
   "cell_type": "code",
   "execution_count": 21,
   "metadata": {},
   "outputs": [
    {
     "name": "stdout",
     "output_type": "stream",
     "text": [
      "ibmqx2\n",
      "======\n",
      "Configuration\n",
      "-------------\n",
      "    n_qubits: 5\n",
      "    operational: True\n",
      "    status_msg: active\n",
      "    pending_jobs: 74\n",
      "    basis_gates: ['u1', 'u2', 'u3', 'cx', 'id']\n",
      "    local: False\n",
      "    simulator: False\n",
      "    memory: True\n",
      "    description: 5 qubit device\n",
      "    online_date: 2018-11-06T05:00:00+00:00\n",
      "    max_shots: 8192\n",
      "    credits_required: True\n",
      "    backend_name: ibmqx2\n",
      "    allow_q_object: True\n",
      "    url: None\n",
      "    max_experiments: 75\n",
      "    coupling_map: [[0, 1], [0, 2], [1, 2], [3, 2], [3, 4], [4, 2]]\n",
      "    conditional: False\n",
      "    open_pulse: False\n",
      "    n_registers: 1\n",
      "    backend_version: 1.0.0\n",
      "    sample_name: sparrow\n",
      "\n",
      "Qubits [Name / Freq / T1 / T2 / U1 err / U2 err / U3 err / Readout err]\n",
      "-----------------------------------------------------------------------\n",
      "    Q0 / 5.28638 GHz / 49.35988 µs / 46.3054 µs / 0.0 / 0.00438 / 0.00876 / 0.07075\n",
      "    Q1 / 5.23823 GHz / 59.9895 µs / 57.14145 µs / 0.0 / 0.00309 / 0.00618 / 0.3085\n",
      "    Q2 / 5.02998 GHz / 73.80225 µs / 61.83772 µs / 0.0 / 0.00756 / 0.01513 / 0.019\n",
      "    Q3 / 5.29576 GHz / 69.7954 µs / 28.57765 µs / 0.0 / 0.00404 / 0.00807 / 0.02875\n",
      "    Q4 / 5.08461 GHz / 57.39183 µs / 46.25942 µs / 0.0 / 0.00361 / 0.00721 / 0.237\n",
      "\n",
      "Multi-Qubit Gates [Name / Type / Gate Error]\n",
      "--------------------------------------------\n",
      "    CX0_1 / cx / 0.03895\n",
      "    CX0_2 / cx / 0.0485\n",
      "    CX1_2 / cx / 0.033\n",
      "    CX3_2 / cx / 0.06749\n",
      "    CX3_4 / cx / 0.03606\n",
      "    CX4_2 / cx / 0.03663\n"
     ]
    }
   ],
   "source": [
    "backend_monitor(IBMQ.get_backend('ibmqx2'))"
   ]
  },
  {
   "cell_type": "code",
   "execution_count": 36,
   "metadata": {},
   "outputs": [
    {
     "data": {
      "text/plain": [
       "[<IBMQBackend('ibmqx4') from IBMQ()>,\n",
       " <IBMQBackend('ibmqx2') from IBMQ()>,\n",
       " <IBMQBackend('ibmq_16_melbourne') from IBMQ()>]"
      ]
     },
     "execution_count": 36,
     "metadata": {},
     "output_type": "execute_result"
    }
   ],
   "source": [
    "IBMQ.backends(operational=True, simulator=False)"
   ]
  },
  {
   "cell_type": "markdown",
   "metadata": {},
   "source": [
    "### Nope, won't be any better..."
   ]
  }
 ],
 "metadata": {
  "kernelspec": {
   "display_name": "Python 3",
   "language": "python",
   "name": "python3"
  },
  "language_info": {
   "codemirror_mode": {
    "name": "ipython",
    "version": 3
   },
   "file_extension": ".py",
   "mimetype": "text/x-python",
   "name": "python",
   "nbconvert_exporter": "python",
   "pygments_lexer": "ipython3",
   "version": "3.7.0"
  }
 },
 "nbformat": 4,
 "nbformat_minor": 2
}
